{
 "cells": [
  {
   "cell_type": "code",
   "execution_count": 1,
   "metadata": {},
   "outputs": [
    {
     "name": "stdout",
     "output_type": "stream",
     "text": [
      "Requirement already satisfied: Flask-WTF in ./.venv/lib/python3.10/site-packages (1.2.1)\n",
      "Requirement already satisfied: flask in ./.venv/lib/python3.10/site-packages (from Flask-WTF) (3.0.0)\n",
      "Requirement already satisfied: itsdangerous in ./.venv/lib/python3.10/site-packages (from Flask-WTF) (2.1.2)\n",
      "Requirement already satisfied: wtforms in ./.venv/lib/python3.10/site-packages (from Flask-WTF) (3.1.1)\n",
      "Requirement already satisfied: Werkzeug>=3.0.0 in ./.venv/lib/python3.10/site-packages (from flask->Flask-WTF) (3.0.0)\n",
      "Requirement already satisfied: Jinja2>=3.1.2 in ./.venv/lib/python3.10/site-packages (from flask->Flask-WTF) (3.1.2)\n",
      "Requirement already satisfied: click>=8.1.3 in ./.venv/lib/python3.10/site-packages (from flask->Flask-WTF) (8.1.7)\n",
      "Requirement already satisfied: blinker>=1.6.2 in ./.venv/lib/python3.10/site-packages (from flask->Flask-WTF) (1.7.0)\n",
      "Requirement already satisfied: markupsafe in ./.venv/lib/python3.10/site-packages (from wtforms->Flask-WTF) (2.1.3)\n",
      "Note: you may need to restart the kernel to use updated packages.\n"
     ]
    }
   ],
   "source": [
    "pip install Flask-WTF"
   ]
  },
  {
   "cell_type": "code",
   "execution_count": null,
   "metadata": {},
   "outputs": [],
   "source": []
  }
 ],
 "metadata": {
  "kernelspec": {
   "display_name": ".venv",
   "language": "python",
   "name": "python3"
  },
  "language_info": {
   "codemirror_mode": {
    "name": "ipython",
    "version": 3
   },
   "file_extension": ".py",
   "mimetype": "text/x-python",
   "name": "python",
   "nbconvert_exporter": "python",
   "pygments_lexer": "ipython3",
   "version": "3.10.1"
  }
 },
 "nbformat": 4,
 "nbformat_minor": 2
}
